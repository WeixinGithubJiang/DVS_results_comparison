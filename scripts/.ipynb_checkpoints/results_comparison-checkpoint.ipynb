{
 "cells": [
  {
   "cell_type": "code",
   "execution_count": null,
   "metadata": {},
   "outputs": [],
   "source": [
    "import os\n",
    "import csv\n",
    "os.environ[\"CUDA_VISIBLE_DEVICES\"] = \"0\"\n",
    "%matplotlib inline"
   ]
  },
  {
   "cell_type": "code",
   "execution_count": null,
   "metadata": {},
   "outputs": [],
   "source": [
    "import tensorflow as tf\n",
    "from keras.backend.tensorflow_backend import set_session\n",
    "config = tf.ConfigProto()\n",
    "config.gpu_options.per_process_gpu_memory_fraction = 0.5\n",
    "set_session(tf.Session(config=config))"
   ]
  },
  {
   "cell_type": "code",
   "execution_count": null,
   "metadata": {},
   "outputs": [],
   "source": [
    "import sys\n",
    "sys.path.append(\"/home/weixin/Documents/MyProjects/CNN_KERAS/utilities\")"
   ]
  },
  {
   "cell_type": "code",
   "execution_count": null,
   "metadata": {},
   "outputs": [],
   "source": [
    "from DnCNN import DnCNN as DnCNN, DnCNN_dc\n",
    "from DnCNN_no_residual import DnCNN as DnCNN_NR\n",
    "from RDN import RDN"
   ]
  },
  {
   "cell_type": "code",
   "execution_count": null,
   "metadata": {},
   "outputs": [],
   "source": [
    "from keras.models import load_model"
   ]
  },
  {
   "cell_type": "code",
   "execution_count": null,
   "metadata": {},
   "outputs": [],
   "source": [
    "import glob\n",
    "from skimage.measure import compare_psnr, compare_ssim\n",
    "from skimage.io import imread, imsave\n",
    "import numpy as np"
   ]
  },
  {
   "cell_type": "code",
   "execution_count": null,
   "metadata": {},
   "outputs": [],
   "source": [
    "import matplotlib.pyplot as plt\n",
    "%matplotlib inline"
   ]
  },
  {
   "cell_type": "code",
   "execution_count": null,
   "metadata": {},
   "outputs": [],
   "source": [
    "##############################################  trained model ##############################################"
   ]
  },
  {
   "cell_type": "code",
   "execution_count": null,
   "metadata": {},
   "outputs": [],
   "source": [
    "s_model_1 = DnCNN(depth=10,filters=32,image_shape=(None,None,1),use_bnorm=True)\n",
    "s_model_2 = DnCNN(depth=5,filters=64,image_shape=(None,None,1),use_bnorm=True)\n",
    "\n",
    "s_model_3 = DnCNN_dc(depth=8,filters=32,image_shape=(None,None,1),use_bnorm=True)\n",
    "s_model_4 = DnCNN_dc(depth=10,filters=32,image_shape=(None,None,1),use_bnorm=True)\n",
    "\n",
    "s_model_5 = DnCNN_dc(depth=5,filters=16,image_shape=(None,None,1),use_bnorm=True)\n",
    "s_model_6 = DnCNN_dc(depth=5,filters=32,image_shape=(None,None,1),use_bnorm=True)\n",
    "\n",
    "\n",
    "model_1 = DnCNN(depth=17,filters=64,image_shape=(None,None,1),use_bnorm=True)\n",
    "model_2 = DnCNN_NR(depth=17,filters=64,image_shape=(None,None,1),use_bnorm=True)\n",
    "model_3 = RDN(block_num=4,filters=45,image_shape=(None,None,1),growth_rate=4)\n",
    "model_4 = DnCNN(depth=17,filters=64,image_shape=(None,None,1),use_bnorm=True)"
   ]
  },
  {
   "cell_type": "code",
   "execution_count": null,
   "metadata": {},
   "outputs": [],
   "source": [
    "# from keras.utils import plot_model\n",
    "# plot_model(model_1, to_file='model.png')"
   ]
  },
  {
   "cell_type": "code",
   "execution_count": null,
   "metadata": {
    "scrolled": true
   },
   "outputs": [],
   "source": [
    "model_1.summary()"
   ]
  },
  {
   "cell_type": "code",
   "execution_count": null,
   "metadata": {
    "scrolled": true
   },
   "outputs": [],
   "source": [
    "s_model_1.summary()"
   ]
  },
  {
   "cell_type": "code",
   "execution_count": null,
   "metadata": {
    "scrolled": true
   },
   "outputs": [],
   "source": [
    "# model_3.summary()"
   ]
  },
  {
   "cell_type": "code",
   "execution_count": null,
   "metadata": {},
   "outputs": [],
   "source": [
    "s_model_1_save_dir = \"/home/weixin/Documents/MyProjects/CNN_KERAS/models/DnCNN_mean_squared_error_10_32_1_video_128/\"\n",
    "s_model_2_save_dir = \"/home/weixin/Documents/MyProjects/CNN_KERAS/models/DnCNN_mean_squared_error_5_64_1_video_128/\"\n",
    "\n",
    "s_model_3_save_dir = \"/home/weixin/Documents/MyProjects/CNN_KERAS/models/DnCNN_dc_mean_squared_error_8_32_1_video_128/\"\n",
    "s_model_4_save_dir = \"/home/weixin/Documents/MyProjects/CNN_KERAS/models/DnCNN_dc_mean_squared_error_10_32_1_video_128/\"\n",
    "\n",
    "s_model_5_save_dir = \"/home/weixin/Documents/MyProjects/CNN_KERAS/models/DnCNN_dc_mean_squared_error_5_16_1_video_128/\"\n",
    "s_model_6_save_dir = \"/home/weixin/Documents/MyProjects/CNN_KERAS/models/DnCNN_dc_mean_squared_error_5_32_1_video_128/\"\n",
    "\n",
    "model_1_save_dir = \"/home/weixin/Documents/MyProjects/CNN_KERAS/models/DnCNN_17_64_1_video_128\"\n",
    "model_2_save_dir = \"/home/weixin/Documents/MyProjects/CNN_KERAS/models/DnCNN_non_residual_17_64_1_video_128/\"\n",
    "model_3_save_dir = \"/home/weixin/Documents/MyProjects/CNN_KERAS/models/RDN_4_45_4_1_denoise_25_128\"\n",
    "model_4_save_dir = \"/home/weixin/Documents/MyProjects/CNN_KERAS/models/DnCNN_mean_squared_error_17_64_1_video_128/\""
   ]
  },
  {
   "cell_type": "code",
   "execution_count": null,
   "metadata": {
    "scrolled": false
   },
   "outputs": [],
   "source": [
    "s_model_1.load_weights(os.path.join(s_model_1_save_dir,\"model_150.hdf5\"), by_name=True)\n",
    "s_model_2.load_weights(os.path.join(s_model_2_save_dir,\"model_150.hdf5\"), by_name=True)\n",
    "\n",
    "s_model_3.load_weights(os.path.join(s_model_3_save_dir,\"model_150.hdf5\"), by_name=True)\n",
    "s_model_4.load_weights(os.path.join(s_model_4_save_dir,\"model_150.hdf5\"), by_name=True)\n",
    "\n",
    "s_model_5.load_weights(os.path.join(s_model_5_save_dir,\"model_150.hdf5\"), by_name=True)\n",
    "# s_model_6.load_weights(os.path.join(s_model_6_save_dir,\"model_150.hdf5\"), by_name=True)\n",
    "\n",
    "model_1.load_weights(os.path.join(model_1_save_dir,\"model_150.hdf5\"), by_name=True)\n",
    "model_2.load_weights(os.path.join(model_2_save_dir,\"model_150.hdf5\"), by_name=True)\n",
    "model_3.load_weights(os.path.join(model_3_save_dir,\"model_150.hdf5\"), by_name=True)\n",
    "model_4.load_weights(os.path.join(model_4_save_dir,\"model_150.hdf5\"), by_name=True)"
   ]
  },
  {
   "cell_type": "code",
   "execution_count": null,
   "metadata": {},
   "outputs": [],
   "source": [
    "##############################################  convergence ##############################################"
   ]
  },
  {
   "cell_type": "code",
   "execution_count": null,
   "metadata": {},
   "outputs": [],
   "source": [
    "def get_loss(file):\n",
    "    csvFile = open(file, \"r\")\n",
    "    reader = csv.reader(csvFile)\n",
    "    train_loss = []\n",
    "    validate_loss = []\n",
    "    for line in reader:\n",
    "        if reader.line_num == 1:\n",
    "            continue\n",
    "        train_loss.append(float(line[1]))\n",
    "        if len(line) >2:\n",
    "            validate_loss.append(float(line[2]))\n",
    "        else:\n",
    "            validate_loss.append(float(-1))\n",
    "    csvFile.close()\n",
    "    return np.array(train_loss),np.array(validate_loss)"
   ]
  },
  {
   "cell_type": "code",
   "execution_count": null,
   "metadata": {},
   "outputs": [],
   "source": [
    "filename = \"log.csv\"\n",
    "file_1 = os.path.join(model_1_save_dir,filename)\n",
    "model_1_train_loss, model_1_vali_loss = get_loss(file_1)\n",
    "\n",
    "file_2 = os.path.join(model_2_save_dir,filename)\n",
    "model_2_train_loss, model_2_vali_loss = get_loss(file_2)\n",
    "\n",
    "file_3 = os.path.join(model_3_save_dir,filename)\n",
    "model_3_train_loss, model_3_vali_loss = get_loss(file_3)\n",
    "\n",
    "file_4 = os.path.join(model_4_save_dir,filename)\n",
    "model_4_train_loss, model_4_vali_loss = get_loss(file_4)\n",
    "\n",
    "file_5 = os.path.join(s_model_1_save_dir,filename)\n",
    "model_5_train_loss, model_5_vali_loss = get_loss(file_5)\n",
    "\n",
    "file_6 = os.path.join(s_model_2_save_dir,filename)\n",
    "model_6_train_loss, model_6_vali_loss = get_loss(file_6)"
   ]
  },
  {
   "cell_type": "code",
   "execution_count": null,
   "metadata": {},
   "outputs": [],
   "source": [
    "plt.figure(figsize=(20,10))\n",
    "start_point = 0\n",
    "\n",
    "plt.subplot(1,2,1)\n",
    "plt.plot(model_5_train_loss[start_point:])#/model_1_train_loss[start_point])\n",
    "plt.plot(model_5_vali_loss[start_point:])#/model_1_vali_loss[start_point])\n",
    "plt.legend(('train_loss',  'vali_loss'),\n",
    "           shadow=False, loc='best', handlelength=1.5, fontsize=16)\n",
    "\n",
    "# plt.plot(model_1_train_loss[start_point:])\n",
    "# plt.plot(model_2_train_loss[start_point:])\n",
    "# plt.plot(model_3_train_loss[start_point:])\n",
    "# plt.legend(('train_loss_1',  'train_loss_2','train_loss_3'),\n",
    "#            shadow=False, loc='best', handlelength=1.5, fontsize=16)\n",
    "plt.xlabel(\"EPOCHS\")\n",
    "plt.ylabel(\"loss\")\n",
    "plt.subplot(1,2,2)\n",
    "plt.plot(model_6_train_loss[start_point:])#/model_1_train_loss[start_point])\n",
    "plt.plot(model_6_vali_loss[start_point:])#/model_1_vali_loss[start_point])\n",
    "plt.legend(('train_loss',  'vali_loss'),\n",
    "           shadow=False, loc='best', handlelength=1.5, fontsize=16)\n",
    "\n",
    "\n",
    "# plt.plot(model_1_vali_loss[start_point:])\n",
    "# plt.plot(model_2_vali_loss[start_point:])\n",
    "# plt.plot(model_3_vali_loss[start_point:])\n",
    "# plt.legend(('vali_loss_1',  'vali_loss_2', 'vali_loss_3'),\n",
    "#            shadow=False, loc='best', handlelength=1.5, fontsize=16)\n",
    "# plt.plot(model_3_vali_loss)\n",
    "# plt.subplot(1,2,1)\n",
    "# plt.plot((model_1_train_loss[start_point:]),'r-*')\n",
    "# plt.plot((model_1_train_loss[start_point:]/model_1_train_loss[start_point]),'r-*')\n",
    "# plt.plot((model_1_vali_loss[start_point:]/model_1_vali_loss[start_point]),'r--')\n",
    "# plt.subplot(1,2,2)\n",
    "# plt.plot((model_2_train_loss[start_point:]),'g-')\n",
    "# plt.plot((model_2_train_loss[start_point:]/model_2_train_loss[start_point]),'g-')\n",
    "# plt.plot((model_2_vali_loss[start_point:]/model_2_vali_loss[start_point]),'g--')\n",
    "# plt.legend(('train_loss_1', 'vali_loss_1', 'train_loss_2',\"vali_loss_2\"),\n",
    "#            shadow=False, loc='best', handlelength=1.5, fontsize=16)\n",
    "plt.xlabel(\"EPOCHS\")\n",
    "plt.ylabel(\"loss\")"
   ]
  },
  {
   "cell_type": "code",
   "execution_count": null,
   "metadata": {},
   "outputs": [],
   "source": [
    "##############################################  test dataset 1 ##############################################"
   ]
  },
  {
   "cell_type": "code",
   "execution_count": null,
   "metadata": {},
   "outputs": [],
   "source": [
    "from video_datagenerator import gen_train_data, gen_validate_data\n",
    "val_x,val_y = gen_validate_data(data_dir=\"/data/nfs_training_pairs/\", verbose=False)\n",
    "print(len(val_x))"
   ]
  },
  {
   "cell_type": "code",
   "execution_count": null,
   "metadata": {},
   "outputs": [],
   "source": [
    "image_index = 8765\n",
    "noisy_image = val_x[image_index,:,:,0]\n",
    "inpt = np.reshape(noisy_image,(1,*noisy_image.shape,1))\n",
    "clean_image = val_y[image_index,:,:,0]\n",
    "clean_image = clean_image.astype(\"float32\")\n",
    "noisy_image = noisy_image.astype(\"float32\")\n",
    "# print(np.max(clean_image),np.min(clean_image))\n",
    "# print(np.max(noisy_image),np.min(noisy_image))\n"
   ]
  },
  {
   "cell_type": "code",
   "execution_count": null,
   "metadata": {},
   "outputs": [],
   "source": [
    "#### model: DnCNN with Dilated conv, depth=5, filters=32"
   ]
  },
  {
   "cell_type": "code",
   "execution_count": null,
   "metadata": {},
   "outputs": [],
   "source": [
    "ssim = []\n",
    "psnr = []\n",
    "for i in range(1,119):\n",
    "    s_model_6.load_weights(os.path.join(s_model_6_save_dir,\"model_%03d.hdf5\" % (i)), by_name=True)\n",
    "    predict = s_model_6.predict(inpt)\n",
    "    predict = np.reshape(predict,(inpt.shape[1],inpt.shape[2]))\n",
    "    ssim.append(compare_ssim(clean_image,predict)) \n",
    "    psnr.append(compare_psnr(clean_image,predict))\n",
    "    \n",
    "plt.plot(ssim)\n",
    "print(np.max(ssim),np.argmax(ssim))\n",
    "plt.show()\n",
    "\n",
    "plt.plot(psnr)\n",
    "print(np.max(psnr),np.argmax(psnr))\n",
    "plt.show()"
   ]
  },
  {
   "cell_type": "code",
   "execution_count": null,
   "metadata": {},
   "outputs": [],
   "source": [
    "i=120\n",
    "s_model_6.load_weights(os.path.join(s_model_6_save_dir,\"model_%03d.hdf5\" % (i)), by_name=True)\n",
    "predict = s_model_6.predict(inpt)\n",
    "predict = np.reshape(predict,(inpt.shape[1],inpt.shape[2]))\n",
    "# print(np.max(predict),np.min(predict))\n",
    "# print(predict.dtype)\n",
    "# print(clean_image.dtype)\n",
    "\n",
    "ssim = compare_ssim(clean_image,predict)\n",
    "psnr = compare_psnr(clean_image,predict)\n",
    "print(\"psnr=\",psnr,\",ssim=\",ssim)\n",
    "\n",
    "plt.figure(figsize=(20,10))\n",
    "plt.subplot(1,3,1)\n",
    "plt.imshow(clean_image)\n",
    "plt.title(\"gt\")\n",
    "plt.subplot(1,3,2)\n",
    "plt.imshow(noisy_image)\n",
    "plt.title(\"noisy image\")\n",
    "plt.subplot(1,3,3)\n",
    "plt.imshow(predict)\n",
    "plt.title(\"prediction\")"
   ]
  },
  {
   "cell_type": "code",
   "execution_count": null,
   "metadata": {},
   "outputs": [],
   "source": [
    "#### model: DnCNN with Dilated conv, depth=5, filters=16"
   ]
  },
  {
   "cell_type": "code",
   "execution_count": null,
   "metadata": {},
   "outputs": [],
   "source": [
    "ssim = []\n",
    "psnr = []\n",
    "for i in range(1,150):\n",
    "    s_model_5.load_weights(os.path.join(s_model_5_save_dir,\"model_%03d.hdf5\" % (i)), by_name=True)\n",
    "    predict = s_model_5.predict(inpt)\n",
    "    predict = np.reshape(predict,(inpt.shape[1],inpt.shape[2]))\n",
    "    ssim.append(compare_ssim(clean_image,predict)) \n",
    "    psnr.append(compare_psnr(clean_image,predict))\n",
    "    \n",
    "plt.plot(ssim)\n",
    "print(np.max(ssim),np.argmax(ssim))\n",
    "plt.show()\n",
    "\n",
    "plt.plot(psnr)\n",
    "print(np.max(psnr),np.argmax(psnr))\n",
    "plt.show()"
   ]
  },
  {
   "cell_type": "code",
   "execution_count": null,
   "metadata": {},
   "outputs": [],
   "source": [
    "i=150\n",
    "s_model_5.load_weights(os.path.join(s_model_5_save_dir,\"model_%03d.hdf5\" % (i)), by_name=True)\n",
    "predict = s_model_5.predict(inpt)\n",
    "predict = np.reshape(predict,(inpt.shape[1],inpt.shape[2]))\n",
    "# print(np.max(predict),np.min(predict))\n",
    "# print(predict.dtype)\n",
    "# print(clean_image.dtype)\n",
    "\n",
    "ssim = compare_ssim(clean_image,predict)\n",
    "psnr = compare_psnr(clean_image,predict)\n",
    "print(\"psnr=\",psnr,\",ssim=\",ssim)\n",
    "\n",
    "plt.figure(figsize=(20,10))\n",
    "plt.subplot(1,3,1)\n",
    "plt.imshow(clean_image)\n",
    "plt.title(\"gt\")\n",
    "plt.subplot(1,3,2)\n",
    "plt.imshow(noisy_image)\n",
    "plt.title(\"noisy image\")\n",
    "plt.subplot(1,3,3)\n",
    "plt.imshow(predict)\n",
    "plt.title(\"prediction\")"
   ]
  },
  {
   "cell_type": "code",
   "execution_count": null,
   "metadata": {},
   "outputs": [],
   "source": [
    "#### model: DnCNN with Dilated conv, depth=8, filters=32"
   ]
  },
  {
   "cell_type": "code",
   "execution_count": null,
   "metadata": {},
   "outputs": [],
   "source": [
    "ssim = []\n",
    "psnr = []\n",
    "for i in range(1,150):\n",
    "    s_model_3.load_weights(os.path.join(s_model_3_save_dir,\"model_%03d.hdf5\" % (i)), by_name=True)\n",
    "    predict = s_model_3.predict(inpt)\n",
    "    predict = np.reshape(predict,(inpt.shape[1],inpt.shape[2]))\n",
    "    ssim.append(compare_ssim(clean_image,predict)) \n",
    "    psnr.append(compare_psnr(clean_image,predict))\n",
    "    \n",
    "plt.plot(ssim)\n",
    "print(np.max(ssim),np.argmax(ssim))\n",
    "plt.show()\n",
    "\n",
    "plt.plot(psnr)\n",
    "print(np.max(psnr),np.argmax(psnr))\n",
    "plt.show()"
   ]
  },
  {
   "cell_type": "code",
   "execution_count": null,
   "metadata": {},
   "outputs": [],
   "source": [
    "i=150\n",
    "s_model_3.load_weights(os.path.join(s_model_3_save_dir,\"model_%03d.hdf5\" % (i)), by_name=True)\n",
    "predict = s_model_3.predict(inpt)\n",
    "predict = np.reshape(predict,(inpt.shape[1],inpt.shape[2]))\n",
    "# print(np.max(predict),np.min(predict))\n",
    "# print(predict.dtype)\n",
    "# print(clean_image.dtype)\n",
    "\n",
    "ssim = compare_ssim(clean_image,predict)\n",
    "psnr = compare_psnr(clean_image,predict)\n",
    "print(\"psnr=\",psnr,\",ssim=\",ssim)\n",
    "\n",
    "plt.figure(figsize=(20,10))\n",
    "plt.subplot(1,3,1)\n",
    "plt.imshow(clean_image)\n",
    "plt.title(\"gt\")\n",
    "plt.subplot(1,3,2)\n",
    "plt.imshow(noisy_image)\n",
    "plt.title(\"noisy image\")\n",
    "plt.subplot(1,3,3)\n",
    "plt.imshow(predict)\n",
    "plt.title(\"prediction\")"
   ]
  },
  {
   "cell_type": "code",
   "execution_count": null,
   "metadata": {},
   "outputs": [],
   "source": [
    "#### model: DnCNN with Dilated conv, depth=10, filters=32"
   ]
  },
  {
   "cell_type": "code",
   "execution_count": null,
   "metadata": {},
   "outputs": [],
   "source": [
    "ssim = []\n",
    "psnr = []\n",
    "for i in range(1,150):\n",
    "    s_model_4.load_weights(os.path.join(s_model_4_save_dir,\"model_%03d.hdf5\" % (i)), by_name=True)\n",
    "    predict = s_model_4.predict(inpt)\n",
    "    predict = np.reshape(predict,(inpt.shape[1],inpt.shape[2]))\n",
    "    ssim.append(compare_ssim(clean_image,predict)) \n",
    "    psnr.append(compare_psnr(clean_image,predict))\n",
    "    \n",
    "plt.plot(ssim)\n",
    "print(np.max(ssim),np.argmax(ssim))\n",
    "plt.show()\n",
    "\n",
    "plt.plot(psnr)\n",
    "print(np.max(psnr),np.argmax(psnr))\n",
    "plt.show()"
   ]
  },
  {
   "cell_type": "code",
   "execution_count": null,
   "metadata": {},
   "outputs": [],
   "source": [
    "i=150\n",
    "s_model_4.load_weights(os.path.join(s_model_4_save_dir,\"model_%03d.hdf5\" % (i)), by_name=True)\n",
    "predict = s_model_4.predict(inpt)\n",
    "predict = np.reshape(predict,(inpt.shape[1],inpt.shape[2]))\n",
    "# print(np.max(predict),np.min(predict))\n",
    "# print(predict.dtype)\n",
    "# print(clean_image.dtype)\n",
    "\n",
    "ssim = compare_ssim(clean_image,predict)\n",
    "psnr = compare_psnr(clean_image,predict)\n",
    "print(\"psnr=\",psnr,\",ssim=\",ssim)\n",
    "\n",
    "plt.figure(figsize=(20,10))\n",
    "plt.subplot(1,3,1)\n",
    "plt.imshow(clean_image)\n",
    "plt.title(\"gt\")\n",
    "plt.subplot(1,3,2)\n",
    "plt.imshow(noisy_image)\n",
    "plt.title(\"noisy image\")\n",
    "plt.subplot(1,3,3)\n",
    "plt.imshow(predict)\n",
    "plt.title(\"prediction\")"
   ]
  },
  {
   "cell_type": "code",
   "execution_count": null,
   "metadata": {},
   "outputs": [],
   "source": [
    "#### model: DnCNN, depth=17, filters=64"
   ]
  },
  {
   "cell_type": "code",
   "execution_count": null,
   "metadata": {},
   "outputs": [],
   "source": [
    "ssim = []\n",
    "psnr = []\n",
    "for i in range(1,150):\n",
    "    model_1.load_weights(os.path.join(model_1_save_dir,\"model_%03d.hdf5\" % (i)), by_name=True)\n",
    "    predict = model_1.predict(inpt)\n",
    "    predict = np.reshape(predict,(inpt.shape[1],inpt.shape[2]))\n",
    "    ssim.append(compare_ssim(clean_image,predict)) \n",
    "    psnr.append(compare_psnr(clean_image,predict))\n",
    "plt.plot(ssim)\n",
    "print(np.max(ssim),np.argmax(ssim))\n",
    "plt.show()\n",
    "\n",
    "plt.plot(psnr)\n",
    "print(np.max(psnr),np.argmax(psnr))\n",
    "plt.show()"
   ]
  },
  {
   "cell_type": "code",
   "execution_count": null,
   "metadata": {},
   "outputs": [],
   "source": [
    "i=150\n",
    "model_1.load_weights(os.path.join(model_1_save_dir,\"model_%03d.hdf5\" % (i)), by_name=True)\n",
    "predict = model_1.predict(inpt)\n",
    "predict = np.reshape(predict,(inpt.shape[1],inpt.shape[2]))\n",
    "# print(np.max(predict),np.min(predict))\n",
    "# print(predict.dtype)\n",
    "# print(clean_image.dtype)\n",
    "\n",
    "ssim = compare_ssim(clean_image,predict)\n",
    "psnr = compare_psnr(clean_image,predict)\n",
    "print(\"psnr=\",psnr,\",ssim=\",ssim)\n",
    "\n",
    "plt.figure(figsize=(20,10))\n",
    "plt.subplot(1,3,1)\n",
    "plt.imshow(clean_image)\n",
    "plt.title(\"gt\")\n",
    "plt.subplot(1,3,2)\n",
    "plt.imshow(noisy_image)\n",
    "plt.title(\"noisy image\")\n",
    "plt.subplot(1,3,3)\n",
    "plt.imshow(predict)\n",
    "plt.title(\"prediction\")"
   ]
  },
  {
   "cell_type": "code",
   "execution_count": null,
   "metadata": {},
   "outputs": [],
   "source": [
    "#### model: DnCNN w/o dialated conv, depth=10, filters=32"
   ]
  },
  {
   "cell_type": "code",
   "execution_count": null,
   "metadata": {},
   "outputs": [],
   "source": [
    "ssim = []\n",
    "psnr = []\n",
    "for i in range(1,150):\n",
    "    s_model_1.load_weights(os.path.join(s_model_1_save_dir,\"model_%03d.hdf5\" % (i)), by_name=True)\n",
    "    predict = s_model_1.predict(inpt)\n",
    "    predict = np.reshape(predict,(inpt.shape[1],inpt.shape[2]))\n",
    "    ssim.append(compare_ssim(clean_image,predict)) \n",
    "    psnr.append(compare_psnr(clean_image,predict))\n",
    "plt.plot(ssim)\n",
    "print(np.max(ssim),np.argmax(ssim))\n",
    "plt.show()\n",
    "\n",
    "plt.plot(psnr)\n",
    "print(np.max(psnr),np.argmax(psnr))\n",
    "plt.show()\n",
    "    "
   ]
  },
  {
   "cell_type": "code",
   "execution_count": null,
   "metadata": {},
   "outputs": [],
   "source": [
    "import time\n",
    "print('test image shape',inpt.shape)\n",
    "b = time.time()\n",
    "for i in range(10000):\n",
    "    tmp = model_1.predict(inpt)\n",
    "print('time for more parameters',(time.time()-b)/10000)\n",
    "b = time.time()\n",
    "for i in range(10000):\n",
    "    tmp = s_model_1.predict(inpt)\n",
    "print('time for less parameters',(time.time()-b)/10000)"
   ]
  },
  {
   "cell_type": "code",
   "execution_count": null,
   "metadata": {},
   "outputs": [],
   "source": [
    "i = 150\n",
    "s_model_1.load_weights(os.path.join(s_model_1_save_dir,\"model_%03d.hdf5\" % (i)), by_name=True)\n",
    "predict = s_model_1.predict(inpt)\n",
    "predict = np.reshape(predict,(inpt.shape[1],inpt.shape[2]))\n",
    "# print(np.max(predict),np.min(predict))\n",
    "# print(predict.dtype)\n",
    "# print(clean_image.dtype)\n",
    "\n",
    "ssim = compare_ssim(clean_image,predict)\n",
    "psnr = compare_psnr(clean_image,predict)\n",
    "print(\"psnr=\",psnr,\",ssim=\",ssim)\n",
    "\n",
    "plt.figure(figsize=(20,10))\n",
    "plt.subplot(1,3,1)\n",
    "plt.imshow(clean_image)\n",
    "plt.title(\"gt\")\n",
    "plt.subplot(1,3,2)\n",
    "plt.imshow(noisy_image)\n",
    "plt.title(\"noisy image\")\n",
    "plt.subplot(1,3,3)\n",
    "plt.imshow(predict)\n",
    "plt.title(\"prediction\")"
   ]
  },
  {
   "cell_type": "code",
   "execution_count": null,
   "metadata": {},
   "outputs": [],
   "source": [
    "#### model: DnCNN w/o dialated conv, depth=5, filters=64"
   ]
  },
  {
   "cell_type": "code",
   "execution_count": null,
   "metadata": {},
   "outputs": [],
   "source": [
    "ssim = []\n",
    "psnr = []\n",
    "for i in range(1,150):\n",
    "    s_model_2.load_weights(os.path.join(s_model_2_save_dir,\"model_%03d.hdf5\" % (i)), by_name=True)\n",
    "    predict = s_model_2.predict(inpt)\n",
    "    predict = np.reshape(predict,(inpt.shape[1],inpt.shape[2]))\n",
    "    ssim.append(compare_ssim(clean_image,predict)) \n",
    "    psnr.append(compare_psnr(clean_image,predict))\n",
    "plt.plot(ssim)\n",
    "print(np.max(ssim),np.argmax(ssim))\n",
    "plt.show()\n",
    "\n",
    "plt.plot(psnr)\n",
    "print(np.max(psnr),np.argmax(psnr))\n",
    "plt.show()"
   ]
  },
  {
   "cell_type": "code",
   "execution_count": null,
   "metadata": {},
   "outputs": [],
   "source": [
    "i = 150\n",
    "s_model_2.load_weights(os.path.join(s_model_2_save_dir,\"model_%03d.hdf5\" % (i)), by_name=True)\n",
    "predict = s_model_2.predict(inpt)\n",
    "predict = np.reshape(predict,(inpt.shape[1],inpt.shape[2]))\n",
    "# print(np.max(predict),np.min(predict))\n",
    "# print(predict.dtype)\n",
    "# print(clean_image.dtype)\n",
    "\n",
    "ssim = compare_ssim(clean_image,predict)\n",
    "psnr = compare_psnr(clean_image,predict)\n",
    "print(\"psnr=\",psnr,\",ssim=\",ssim)\n",
    "\n",
    "plt.figure(figsize=(20,10))\n",
    "plt.subplot(1,3,1)\n",
    "plt.imshow(clean_image)\n",
    "plt.title(\"gt\")\n",
    "plt.subplot(1,3,2)\n",
    "plt.imshow(noisy_image)\n",
    "plt.title(\"noisy image\")\n",
    "plt.subplot(1,3,3)\n",
    "plt.imshow(predict)\n",
    "plt.title(\"prediction\")"
   ]
  },
  {
   "cell_type": "code",
   "execution_count": null,
   "metadata": {},
   "outputs": [],
   "source": [
    "predict = model_2.predict(inpt)\n",
    "predict = np.reshape(predict,(inpt.shape[1],inpt.shape[2]))\n",
    "\n",
    "ssim = compare_ssim(clean_image,predict)\n",
    "psnr = compare_psnr(clean_image,predict)\n",
    "print(\"psnr=\",psnr,\",ssim=\",ssim)\n",
    "\n",
    "plt.figure(figsize=(20,10))\n",
    "plt.subplot(1,3,1)\n",
    "plt.imshow(clean_image)\n",
    "plt.title(\"gt\")\n",
    "plt.subplot(1,3,2)\n",
    "plt.imshow(noisy_image)\n",
    "plt.title(\"noisy image\")\n",
    "plt.subplot(1,3,3)\n",
    "plt.imshow(predict)\n",
    "plt.title(\"prediction\")"
   ]
  },
  {
   "cell_type": "code",
   "execution_count": null,
   "metadata": {},
   "outputs": [],
   "source": [
    "predict = model_3.predict(inpt)\n",
    "predict = np.reshape(predict,(inpt.shape[1],inpt.shape[2]))\n",
    "\n",
    "ssim = compare_ssim(clean_image,predict)\n",
    "psnr = compare_psnr(clean_image,predict)\n",
    "print(\"psnr=\",psnr,\",ssim=\",ssim)\n",
    "\n",
    "plt.figure(figsize=(20,10))\n",
    "plt.subplot(1,3,1)\n",
    "plt.imshow(clean_image)\n",
    "plt.title(\"gt\")\n",
    "plt.subplot(1,3,2)\n",
    "plt.imshow(noisy_image)\n",
    "plt.title(\"noisy image\")\n",
    "plt.subplot(1,3,3)\n",
    "plt.imshow(predict)\n",
    "plt.title(\"prediction\")"
   ]
  },
  {
   "cell_type": "code",
   "execution_count": null,
   "metadata": {},
   "outputs": [],
   "source": [
    "predict = model_4.predict(inpt)\n",
    "predict = np.reshape(predict,(inpt.shape[1],inpt.shape[2]))\n",
    "\n",
    "ssim = compare_ssim(clean_image,predict)\n",
    "psnr = compare_psnr(clean_image,predict)\n",
    "print(\"psnr=\",psnr,\",ssim=\",ssim)\n",
    "\n",
    "plt.figure(figsize=(20,10))\n",
    "plt.subplot(1,3,1)\n",
    "plt.imshow(clean_image)\n",
    "plt.title(\"gt\")\n",
    "plt.subplot(1,3,2)\n",
    "plt.imshow(noisy_image)\n",
    "plt.title(\"noisy image\")\n",
    "plt.subplot(1,3,3)\n",
    "plt.imshow(predict)\n",
    "plt.title(\"prediction\")"
   ]
  },
  {
   "cell_type": "code",
   "execution_count": null,
   "metadata": {},
   "outputs": [],
   "source": [
    "# max_num = 180\n",
    "# ssim_history = np.zeros((max_num,1))\n",
    "# psnr_history = np.zeros((max_num,1))\n",
    "# model = model_1\n",
    "# model_save_dir = model_1_save_dir\n",
    "# for i in range(1,max_num):\n",
    "#     if i <10:\n",
    "#         model_name = \"00\"+str(i)\n",
    "#     elif i < 100:\n",
    "#         model_name = \"0\"+str(i)\n",
    "#     else:\n",
    "#         model_name = str(i)\n",
    "#     model.load_weights(os.path.join(model_save_dir,\"model_\"+model_name+\".hdf5\"), by_name=True)\n",
    "#     predict = model.predict(inpt)\n",
    "#     predict = np.reshape(predict,(inpt.shape[1],inpt.shape[2]))\n",
    "\n",
    "#     ssim_history[i] = compare_ssim(clean_image,predict)\n",
    "#     psnr_history[i] = compare_psnr(clean_image,predict)"
   ]
  },
  {
   "cell_type": "code",
   "execution_count": null,
   "metadata": {},
   "outputs": [],
   "source": [
    "# plt.plot(ssim_history[1:])"
   ]
  },
  {
   "cell_type": "code",
   "execution_count": null,
   "metadata": {},
   "outputs": [],
   "source": [
    "# plt.plot(psnr_history[1:])"
   ]
  },
  {
   "cell_type": "code",
   "execution_count": null,
   "metadata": {},
   "outputs": [],
   "source": [
    "#################################################################################################################"
   ]
  },
  {
   "cell_type": "code",
   "execution_count": null,
   "metadata": {
    "scrolled": true
   },
   "outputs": [],
   "source": [
    "# mymodel = RDN(block_num=4,filters=45,image_shape=(None,None,1),growth_rate=4)\n",
    "# mymodel.summary()"
   ]
  },
  {
   "cell_type": "code",
   "execution_count": null,
   "metadata": {},
   "outputs": [],
   "source": [
    "# import scipy.misc\n",
    "# fig_save_dir = \"/home/weixin/Documents/MyProjects/CNN_KERAS/fig\"\n",
    "\n",
    "# fig_name = \"clean_image_\"+str(image_index)+\".png\"\n",
    "# scipy.misc.toimage(clean_image, cmin=np.min(predict), cmax=np.max(clean_image)).save(os.path.join(fig_save_dir,fig_name))\n",
    "\n",
    "# fig_name = \"noisy_image_\"+str(image_index)+\".png\"\n",
    "# scipy.misc.toimage(noisy_image, cmin=np.min(noisy_image), cmax=np.max(noisy_image)).save(os.path.join(fig_save_dir,fig_name))\n",
    "\n",
    "\n",
    "# fig_name = \"predict_image_\"+str(image_index)+\".png\"\n",
    "# scipy.misc.toimage(predict, cmin=np.min(predict), cmax=np.max(predict)).save(os.path.join(fig_save_dir,fig_name))\n",
    "\n",
    "\n"
   ]
  },
  {
   "cell_type": "code",
   "execution_count": null,
   "metadata": {},
   "outputs": [],
   "source": [
    "i = 1\n",
    "f = \"model_%03d\" %(i)\n",
    "print(f)"
   ]
  },
  {
   "cell_type": "code",
   "execution_count": null,
   "metadata": {},
   "outputs": [],
   "source": [
    "377/1.1/429"
   ]
  },
  {
   "cell_type": "code",
   "execution_count": null,
   "metadata": {},
   "outputs": [],
   "source": [
    "################################### results comparison ##############################"
   ]
  },
  {
   "cell_type": "code",
   "execution_count": null,
   "metadata": {},
   "outputs": [],
   "source": [
    "#### model: DnCNN with Dilated conv, depth=5, filters=16"
   ]
  },
  {
   "cell_type": "code",
   "execution_count": null,
   "metadata": {},
   "outputs": [],
   "source": [
    "#### model: DnCNN with Dilated conv, depth=5, filters=32"
   ]
  },
  {
   "cell_type": "code",
   "execution_count": null,
   "metadata": {},
   "outputs": [],
   "source": [
    "#### model: DnCNN with Dilated conv, depth=8, filters=32"
   ]
  },
  {
   "cell_type": "code",
   "execution_count": null,
   "metadata": {},
   "outputs": [],
   "source": [
    "#### model: DnCNN with Dilated conv, depth=10, filters=32"
   ]
  },
  {
   "cell_type": "code",
   "execution_count": null,
   "metadata": {},
   "outputs": [],
   "source": []
  },
  {
   "cell_type": "code",
   "execution_count": null,
   "metadata": {},
   "outputs": [],
   "source": []
  },
  {
   "cell_type": "code",
   "execution_count": null,
   "metadata": {},
   "outputs": [],
   "source": []
  }
 ],
 "metadata": {
  "kernelspec": {
   "display_name": "Python 3",
   "language": "python",
   "name": "python3"
  },
  "language_info": {
   "codemirror_mode": {
    "name": "ipython",
    "version": 3
   },
   "file_extension": ".py",
   "mimetype": "text/x-python",
   "name": "python",
   "nbconvert_exporter": "python",
   "pygments_lexer": "ipython3",
   "version": "3.5.0"
  }
 },
 "nbformat": 4,
 "nbformat_minor": 2
}
